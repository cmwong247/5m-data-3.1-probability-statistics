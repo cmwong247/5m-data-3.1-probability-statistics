{
 "cells": [
  {
   "cell_type": "markdown",
   "metadata": {
    "id": "aTOLgsbN69-P"
   },
   "source": [
    "# Probability, Information Theory & Statistics"
   ]
  },
  {
   "cell_type": "markdown",
   "metadata": {
    "id": "yqUB9FTRAxd-"
   },
   "source": [
    "*Probability & Information Theory*, introduces the mathematical fields that enable us to quantify uncertainty as well as to make predictions despite uncertainty. These fields are essential because machine learning algorithms are both trained by imperfect data and deployed into noisy, real-world scenarios they haven’t encountered before.\n",
    "\n",
    "You’ll develop a working understanding of \n",
    "\n",
    "- Variables, probability distributions, metrics for assessing distributions.\n",
    "- Essential statistical tests for assessing whether data are correlated with each other or sampled from different populations -- tests which frequently come in handy for critically evaluating the inputs and outputs of machine learning algorithms."
   ]
  },
  {
   "cell_type": "markdown",
   "metadata": {
    "id": "aTOLgsbN69-P"
   },
   "source": [
    "## Part 3: Introduction to Statistics"
   ]
  },
  {
   "cell_type": "code",
   "execution_count": 1,
   "metadata": {},
   "outputs": [],
   "source": [
    "import numpy as np\n",
    "import scipy.stats as st\n",
    "import matplotlib.pyplot as plt\n",
    "import seaborn as sns"
   ]
  },
  {
   "cell_type": "markdown",
   "metadata": {
    "id": "qdoH1h1cJy-H"
   },
   "source": [
    "### z-scores"
   ]
  },
  {
   "cell_type": "markdown",
   "metadata": {
    "id": "amWbtyvMJy-H"
   },
   "source": [
    "Assuming normally-distributed data, a z-score indicates how many standard deviations away from the mean a data point (say, $x_i$) is: \n",
    "$$ z = \\frac{x_i-\\mu}{\\sigma} $$"
   ]
  },
  {
   "cell_type": "markdown",
   "metadata": {
    "id": "MR7WaPXEJy-H"
   },
   "source": [
    "That is, the formula *standardizes* a given score $x_i$ to the (standard normal) *z*-distribution. (As we covered above, you could standardize any normal distribution to a mean of zero and standard deviation of one by subtracting its original mean and then dividing by its original standard deviation.)"
   ]
  },
  {
   "cell_type": "markdown",
   "metadata": {
    "id": "hTAg32LLJy-H"
   },
   "source": [
    "For example, let's say you get 85% on a CS101 exam. Sounds like a pretty good score and you did extremely well relative to your peers if the mean was 60% with a standard deviation of 10%:"
   ]
  },
  {
   "cell_type": "code",
   "execution_count": 2,
   "metadata": {
    "id": "nCN9Lrc5Jy-H"
   },
   "outputs": [],
   "source": [
    "x_i = 85\n",
    "mu = 60\n",
    "sigma = 10"
   ]
  },
  {
   "cell_type": "code",
   "execution_count": 3,
   "metadata": {
    "id": "oTVMKmYwJy-H"
   },
   "outputs": [],
   "source": [
    "x = np.random.normal(mu, sigma, 10000)"
   ]
  },
  {
   "cell_type": "code",
   "execution_count": 4,
   "metadata": {
    "colab": {
     "base_uri": "https://localhost:8080/",
     "height": 0
    },
    "id": "JiCkR-4YJy-H",
    "outputId": "a2d017d6-4649-4192-a491-8620e0c810bc"
   },
   "outputs": [
    {
     "name": "stderr",
     "output_type": "stream",
     "text": [
      "/opt/anaconda3/envs/ml/lib/python3.11/site-packages/seaborn/_oldcore.py:1498: FutureWarning: is_categorical_dtype is deprecated and will be removed in a future version. Use isinstance(dtype, CategoricalDtype) instead\n",
      "  if pd.api.types.is_categorical_dtype(vector):\n",
      "/opt/anaconda3/envs/ml/lib/python3.11/site-packages/seaborn/_oldcore.py:1119: FutureWarning: use_inf_as_na option is deprecated and will be removed in a future version. Convert inf values to NaN before operating instead.\n",
      "  with pd.option_context('mode.use_inf_as_na', True):\n"
     ]
    },
    {
     "data": {
      "image/png": "[encoded data removed]",
      "text/plain": [
       "<Figure size 500x500 with 1 Axes>"
      ]
     },
     "metadata": {},
     "output_type": "display_data"
    }
   ],
   "source": [
    "hist_plot = sns.displot(x, color='gray')\n",
    "ax = hist_plot.ax\n",
    "ax.set_xlim(0, 100)\n",
    "plt.axvline(mu, color='orange')\n",
    "for v in [-3, -2, -1, 1, 2, 3]:\n",
    "    plt.axvline(mu+v*sigma, color='olivedrab')\n",
    "_ = plt.axvline(x_i, color='purple')"
   ]
  },
  {
   "cell_type": "markdown",
   "metadata": {
    "id": "xWcxcmDlJy-I"
   },
   "source": [
    "Your z-score is 2.5 standard deviations above the mean: "
   ]
  },
  {
   "cell_type": "code",
   "execution_count": 5,
   "metadata": {
    "colab": {
     "base_uri": "https://localhost:8080/"
    },
    "id": "63mlk5oEJy-I",
    "outputId": "20bb0e2e-3eb2-419e-c3bc-55a390fa2fdc"
   },
   "outputs": [
    {
     "data": {
      "text/plain": [
       "2.5"
      ]
     },
     "execution_count": 5,
     "metadata": {},
     "output_type": "execute_result"
    }
   ],
   "source": [
    "z = (x_i - mu)/sigma\n",
    "z"
   ]
  },
  {
   "cell_type": "markdown",
   "metadata": {
    "id": "zh2fhCRDJy-I"
   },
   "source": [
    "Or using our simulated class of 10k CS101 students: "
   ]
  },
  {
   "cell_type": "code",
   "execution_count": 6,
   "metadata": {
    "colab": {
     "base_uri": "https://localhost:8080/"
    },
    "id": "XwbcdpwYJy-I",
    "outputId": "ec8f80ab-ef46-44e2-a672-94c639e5ca97"
   },
   "outputs": [
    {
     "data": {
      "text/plain": [
       "2.4867049207604133"
      ]
     },
     "execution_count": 6,
     "metadata": {},
     "output_type": "execute_result"
    }
   ],
   "source": [
    "z = (x_i - np.mean(x))/np.std(x)\n",
    "z"
   ]
  },
  {
   "cell_type": "markdown",
   "metadata": {
    "id": "Iw7tDGYCJy-J"
   },
   "source": [
    "Less than one percent of the class outperformed you: "
   ]
  },
  {
   "cell_type": "code",
   "execution_count": 7,
   "metadata": {
    "colab": {
     "base_uri": "https://localhost:8080/"
    },
    "id": "EeVjREfhJy-J",
    "outputId": "d6be22db-5e79-4ac5-d007-80714a5fc8ea"
   },
   "outputs": [
    {
     "data": {
      "text/plain": [
       "70"
      ]
     },
     "execution_count": 7,
     "metadata": {},
     "output_type": "execute_result"
    }
   ],
   "source": [
    "len(np.where(x > 85)[0])"
   ]
  },
  {
   "cell_type": "code",
   "execution_count": 8,
   "metadata": {
    "colab": {
     "base_uri": "https://localhost:8080/"
    },
    "id": "pcJS3YIRJy-J",
    "outputId": "2f5a66ff-c4df-4ad1-8cd6-9e6c6c0def6f"
   },
   "outputs": [
    {
     "data": {
      "text/plain": [
       "0.69"
      ]
     },
     "execution_count": 8,
     "metadata": {},
     "output_type": "execute_result"
    }
   ],
   "source": [
    "100*69/10000"
   ]
  },
  {
   "cell_type": "code",
   "execution_count": 9,
   "metadata": {
    "colab": {
     "base_uri": "https://localhost:8080/"
    },
    "id": "biFn-h76Jy-J",
    "outputId": "ff9d6a4a-ae09-4709-a098-81ca11279744"
   },
   "outputs": [
    {
     "data": {
      "text/plain": [
       "83.6457414553695"
      ]
     },
     "execution_count": 9,
     "metadata": {},
     "output_type": "execute_result"
    }
   ],
   "source": [
    "np.percentile(x, 99)"
   ]
  },
  {
   "cell_type": "markdown",
   "metadata": {
    "id": "cAZhJMenJy-J"
   },
   "source": [
    "In contrast, if the mean score of your peers is 90 and the standard deviation is 2: "
   ]
  },
  {
   "cell_type": "code",
   "execution_count": 10,
   "metadata": {
    "id": "fZj22bDfJy-J"
   },
   "outputs": [],
   "source": [
    "mu = 90\n",
    "sigma = 2"
   ]
  },
  {
   "cell_type": "code",
   "execution_count": 11,
   "metadata": {
    "id": "6M0zc3PKJy-K"
   },
   "outputs": [],
   "source": [
    "y = np.random.normal(mu, sigma, 10000)"
   ]
  },
  {
   "cell_type": "code",
   "execution_count": 12,
   "metadata": {
    "colab": {
     "base_uri": "https://localhost:8080/",
     "height": 0
    },
    "id": "dj2CWs5kJy-K",
    "outputId": "30b84dd2-b347-4d1b-b510-2d6fd59e219e"
   },
   "outputs": [
    {
     "name": "stderr",
     "output_type": "stream",
     "text": [
      "/opt/anaconda3/envs/ml/lib/python3.11/site-packages/seaborn/_oldcore.py:1498: FutureWarning: is_categorical_dtype is deprecated and will be removed in a future version. Use isinstance(dtype, CategoricalDtype) instead\n",
      "  if pd.api.types.is_categorical_dtype(vector):\n",
      "/opt/anaconda3/envs/ml/lib/python3.11/site-packages/seaborn/_oldcore.py:1119: FutureWarning: use_inf_as_na option is deprecated and will be removed in a future version. Convert inf values to NaN before operating instead.\n",
      "  with pd.option_context('mode.use_inf_as_na', True):\n"
     ]
    },
    {
     "data": {
      "image/png": "[encoded data removed]",
      "text/plain": [
       "<Figure size 500x500 with 1 Axes>"
      ]
     },
     "metadata": {},
     "output_type": "display_data"
    }
   ],
   "source": [
    "sns.displot(y, color='gray')\n",
    "plt.axvline(mu, color='orange')\n",
    "for v in [-3, -2, -1, 1, 2, 3]:\n",
    "    plt.axvline(mu+v*sigma, color='olivedrab')\n",
    "_ = plt.axvline(x_i, color='purple')"
   ]
  },
  {
   "cell_type": "markdown",
   "metadata": {
    "id": "z1b5fEFZJy-K"
   },
   "source": [
    "Your z-score is 2.5 standard deviations *below* the mean (!): "
   ]
  },
  {
   "cell_type": "code",
   "execution_count": 13,
   "metadata": {
    "colab": {
     "base_uri": "https://localhost:8080/"
    },
    "id": "tnDjdaP2Jy-L",
    "outputId": "5f4cb60e-85a5-441c-f543-0c473a4d60a8"
   },
   "outputs": [
    {
     "data": {
      "text/plain": [
       "-2.5"
      ]
     },
     "execution_count": 13,
     "metadata": {},
     "output_type": "execute_result"
    }
   ],
   "source": [
    "z = (x_i - mu)/sigma\n",
    "z"
   ]
  },
  {
   "cell_type": "markdown",
   "metadata": {
    "id": "VWZ7yvTZJy-L"
   },
   "source": [
    "Or using our simulated class of 10k CS101 students: "
   ]
  },
  {
   "cell_type": "code",
   "execution_count": 14,
   "metadata": {
    "colab": {
     "base_uri": "https://localhost:8080/"
    },
    "id": "TgBIWccvJy-L",
    "outputId": "a82feb8a-d70d-4a1f-a977-781f2cdc6e63"
   },
   "outputs": [
    {
     "data": {
      "text/plain": [
       "-2.5215434967923946"
      ]
     },
     "execution_count": 14,
     "metadata": {},
     "output_type": "execute_result"
    }
   ],
   "source": [
    "z = (x_i - np.mean(y))/np.std(y)\n",
    "z"
   ]
  },
  {
   "cell_type": "markdown",
   "metadata": {
    "id": "VR6cZOCVJy-L"
   },
   "source": [
    "In which case, over 99% of the class outperformed you: "
   ]
  },
  {
   "cell_type": "code",
   "execution_count": 15,
   "metadata": {
    "colab": {
     "base_uri": "https://localhost:8080/"
    },
    "id": "7y4fP6U-Jy-L",
    "outputId": "7a91eb1a-0a16-4ff1-c186-72d45972bc93"
   },
   "outputs": [
    {
     "data": {
      "text/plain": [
       "9935"
      ]
     },
     "execution_count": 15,
     "metadata": {},
     "output_type": "execute_result"
    }
   ],
   "source": [
    "len(np.where(y > 85)[0])"
   ]
  },
  {
   "cell_type": "code",
   "execution_count": 16,
   "metadata": {
    "colab": {
     "base_uri": "https://localhost:8080/"
    },
    "id": "KLH3RI-yJy-L",
    "outputId": "943895e1-fc4e-4b41-e609-60244ce17362"
   },
   "outputs": [
    {
     "data": {
      "text/plain": [
       "99.33"
      ]
     },
     "execution_count": 16,
     "metadata": {},
     "output_type": "execute_result"
    }
   ],
   "source": [
    "100*9933/10000"
   ]
  },
  {
   "cell_type": "markdown",
   "metadata": {
    "id": "bFacTGGvJy-M"
   },
   "source": [
    "A mere 67 folks attained worse: "
   ]
  },
  {
   "cell_type": "code",
   "execution_count": 17,
   "metadata": {
    "colab": {
     "base_uri": "https://localhost:8080/"
    },
    "id": "cgc7QrXxJy-M",
    "outputId": "bf9fb82b-599d-4224-bf95-b167b8690b6c"
   },
   "outputs": [
    {
     "data": {
      "text/plain": [
       "67"
      ]
     },
     "execution_count": 17,
     "metadata": {},
     "output_type": "execute_result"
    }
   ],
   "source": [
    "10000-9933"
   ]
  },
  {
   "cell_type": "code",
   "execution_count": 18,
   "metadata": {
    "colab": {
     "base_uri": "https://localhost:8080/"
    },
    "id": "aY7HDwhkJy-M",
    "outputId": "704b7afe-8408-4edb-b927-be064dfd5e5c"
   },
   "outputs": [
    {
     "data": {
      "text/plain": [
       "85.40513868158983"
      ]
     },
     "execution_count": 18,
     "metadata": {},
     "output_type": "execute_result"
    }
   ],
   "source": [
    "np.percentile(y, 1)"
   ]
  },
  {
   "cell_type": "markdown",
   "metadata": {
    "id": "aoqKrAPOJy-M"
   },
   "source": [
    "A frequentist convention is to consider a data point that lies further than three standard deviations from the mean to be an **outlier**. \n",
    "\n",
    "It's a good idea to individually investigate outliers in your data as they may represent an erroneous data point (e.g., some data by accident, a data-entry error, or a failed experiment) that perhaps should be removed from further analysis (especially, as outliers can have an outsized impact on statistics including mean and correlation). It may even tip you off to a major issue with your data-collection methodology or your ML model that can be resolved or that you could have a unit test for."
   ]
  },
  {
   "cell_type": "markdown",
   "metadata": {
    "id": "VeTGuUJnJy-M"
   },
   "source": [
    "**Exercises**\n",
    "\n",
    "1. You clean and jerk 100kg in a weightlifting competition. The mean C&J weight at the competition is 100kg. What's your z-score for the C&J?\n",
    "2. You snatch 100kg in the same competition. The mean snatch weight is 80kg with a standard deviation of 10kg. What's your z-score for the snatch? \n",
    "3. In olympic weightlifting, your overall score is the sum total of your C&J and snatch weights. The mean of these totals across competitors is 180kg with a standard deviation of 5kg. What's your overall z-score in the competition? "
   ]
  },
  {
   "cell_type": "markdown",
   "metadata": {
    "id": "PNB9TnHgJy-P"
   },
   "source": [
    "### *p*-values"
   ]
  },
  {
   "cell_type": "markdown",
   "metadata": {
    "id": "JFpWDfhPJy-P"
   },
   "source": [
    "These quantify the *p*robability that a given observation would occur by chance alone. \n",
    "\n",
    "For example, we saw above that with our simulated 10k exam results, only 69 folks attained a *z*-score above 2.5 and only 67 (=10000-9993) attained a *z*-score below -2.5. Thus, if we were to randomly sample one of the 10k CS101 exam results, we would expect it to be outside of 2.5 (i.e., +/- 2.5) standard deviations only 1.36% of the time: \n",
    "$$ \\frac{69+67}{10000} = 0.0136 = 1.36\\% $$"
   ]
  },
  {
   "cell_type": "markdown",
   "metadata": {
    "id": "uZGJqELvJy-Q"
   },
   "source": [
    "Equivalent to increasing our CS101 class size from 10k toward infinity, the probability of a score being further than 2.5 standard deviations from the mean of a normal distribution can be determined with the distribution's *cumulative distribution function* (CDF): "
   ]
  },
  {
   "cell_type": "code",
   "execution_count": 19,
   "metadata": {
    "colab": {
     "base_uri": "https://localhost:8080/"
    },
    "id": "5s-ySScTJy-Q",
    "outputId": "b5dcbc31-fb81-4a51-dbb2-6e60e390dd6c"
   },
   "outputs": [
    {
     "data": {
      "text/plain": [
       "0.006209665325776132"
      ]
     },
     "execution_count": 19,
     "metadata": {},
     "output_type": "execute_result"
    }
   ],
   "source": [
    "p_below = st.norm.cdf(-2.5)\n",
    "p_below"
   ]
  },
  {
   "cell_type": "code",
   "execution_count": 20,
   "metadata": {
    "colab": {
     "base_uri": "https://localhost:8080/"
    },
    "id": "u62I9OjtJy-Q",
    "outputId": "4af35254-12e2-4ea4-e711-e2726731a3ce"
   },
   "outputs": [
    {
     "data": {
      "text/plain": [
       "62.096653257761325"
      ]
     },
     "execution_count": 20,
     "metadata": {},
     "output_type": "execute_result"
    }
   ],
   "source": [
    "p_below*10000"
   ]
  },
  {
   "cell_type": "code",
   "execution_count": 21,
   "metadata": {
    "colab": {
     "base_uri": "https://localhost:8080/",
     "height": 0
    },
    "id": "0-AGIPvRJy-Q",
    "outputId": "a90e8608-316a-4e48-beac-9d5911f2f54e"
   },
   "outputs": [
    {
     "name": "stderr",
     "output_type": "stream",
     "text": [
      "/opt/anaconda3/envs/ml/lib/python3.11/site-packages/seaborn/_oldcore.py:1498: FutureWarning: is_categorical_dtype is deprecated and will be removed in a future version. Use isinstance(dtype, CategoricalDtype) instead\n",
      "  if pd.api.types.is_categorical_dtype(vector):\n",
      "/opt/anaconda3/envs/ml/lib/python3.11/site-packages/seaborn/_oldcore.py:1119: FutureWarning: use_inf_as_na option is deprecated and will be removed in a future version. Convert inf values to NaN before operating instead.\n",
      "  with pd.option_context('mode.use_inf_as_na', True):\n"
     ]
    },
    {
     "data": {
      "image/png": "[encoded data removed]",
      "text/plain": [
       "<Figure size 500x500 with 1 Axes>"
      ]
     },
     "metadata": {},
     "output_type": "display_data"
    }
   ],
   "source": [
    "sns.displot(y, color='gray')\n",
    "_ = plt.axvline(mu-2.5*sigma, color='blue')"
   ]
  },
  {
   "cell_type": "code",
   "execution_count": 22,
   "metadata": {
    "colab": {
     "base_uri": "https://localhost:8080/"
    },
    "id": "nI18Ajo-Jy-Q",
    "outputId": "09c2c13b-11ef-4c59-a360-04e2b66eae78"
   },
   "outputs": [
    {
     "data": {
      "text/plain": [
       "0.9937903346742238"
      ]
     },
     "execution_count": 22,
     "metadata": {},
     "output_type": "execute_result"
    }
   ],
   "source": [
    "st.norm.cdf(2.5)"
   ]
  },
  {
   "cell_type": "code",
   "execution_count": 23,
   "metadata": {
    "colab": {
     "base_uri": "https://localhost:8080/"
    },
    "id": "XeX3OfokJy-Q",
    "outputId": "c44ee03f-8fa7-4548-89bb-ca2420ba9b7e"
   },
   "outputs": [
    {
     "data": {
      "text/plain": [
       "0.006209665325776159"
      ]
     },
     "execution_count": 23,
     "metadata": {},
     "output_type": "execute_result"
    }
   ],
   "source": [
    "p_above = 1-st.norm.cdf(2.5)\n",
    "p_above"
   ]
  },
  {
   "cell_type": "code",
   "execution_count": 24,
   "metadata": {
    "colab": {
     "base_uri": "https://localhost:8080/"
    },
    "id": "GQ4fjiJZJy-Q",
    "outputId": "60507c9e-0059-46bf-9caa-ad0488273155"
   },
   "outputs": [
    {
     "data": {
      "text/plain": [
       "62.09665325776159"
      ]
     },
     "execution_count": 24,
     "metadata": {},
     "output_type": "execute_result"
    }
   ],
   "source": [
    "p_above*10000"
   ]
  },
  {
   "cell_type": "code",
   "execution_count": 25,
   "metadata": {
    "colab": {
     "base_uri": "https://localhost:8080/",
     "height": 0
    },
    "id": "e8-QvwuNJy-R",
    "outputId": "656fa027-74ae-40b9-ebab-bc7fe1b68486"
   },
   "outputs": [
    {
     "name": "stderr",
     "output_type": "stream",
     "text": [
      "/opt/anaconda3/envs/ml/lib/python3.11/site-packages/seaborn/_oldcore.py:1498: FutureWarning: is_categorical_dtype is deprecated and will be removed in a future version. Use isinstance(dtype, CategoricalDtype) instead\n",
      "  if pd.api.types.is_categorical_dtype(vector):\n",
      "/opt/anaconda3/envs/ml/lib/python3.11/site-packages/seaborn/_oldcore.py:1119: FutureWarning: use_inf_as_na option is deprecated and will be removed in a future version. Convert inf values to NaN before operating instead.\n",
      "  with pd.option_context('mode.use_inf_as_na', True):\n"
     ]
    },
    {
     "data": {
      "image/png": "[encoded data removed]",
      "text/plain": [
       "<Figure size 500x500 with 1 Axes>"
      ]
     },
     "metadata": {},
     "output_type": "display_data"
    }
   ],
   "source": [
    "sns.displot(y, color='gray')\n",
    "_ = plt.axvline(mu+2.5*sigma, color='blue')"
   ]
  },
  {
   "cell_type": "code",
   "execution_count": 26,
   "metadata": {
    "colab": {
     "base_uri": "https://localhost:8080/"
    },
    "id": "GYllm_UaJy-R",
    "outputId": "c8d07035-d2de-46f3-9690-ebc2bf1e62a7"
   },
   "outputs": [
    {
     "data": {
      "text/plain": [
       "0.01241933065155229"
      ]
     },
     "execution_count": 26,
     "metadata": {},
     "output_type": "execute_result"
    }
   ],
   "source": [
    "p_outside = p_below + p_above\n",
    "p_outside"
   ]
  },
  {
   "cell_type": "code",
   "execution_count": 27,
   "metadata": {
    "colab": {
     "base_uri": "https://localhost:8080/"
    },
    "id": "44Cq4EtKJy-R",
    "outputId": "e5997c6f-4c2a-4057-b77d-ece314b83b68"
   },
   "outputs": [
    {
     "data": {
      "text/plain": [
       "124.1933065155229"
      ]
     },
     "execution_count": 27,
     "metadata": {},
     "output_type": "execute_result"
    }
   ],
   "source": [
    "p_outside*10000"
   ]
  },
  {
   "cell_type": "code",
   "execution_count": 28,
   "metadata": {
    "colab": {
     "base_uri": "https://localhost:8080/",
     "height": 0
    },
    "id": "6zdZEbPmJy-R",
    "outputId": "f07c46fc-3049-4994-9abc-de4e44a3324f"
   },
   "outputs": [
    {
     "name": "stderr",
     "output_type": "stream",
     "text": [
      "/opt/anaconda3/envs/ml/lib/python3.11/site-packages/seaborn/_oldcore.py:1498: FutureWarning: is_categorical_dtype is deprecated and will be removed in a future version. Use isinstance(dtype, CategoricalDtype) instead\n",
      "  if pd.api.types.is_categorical_dtype(vector):\n",
      "/opt/anaconda3/envs/ml/lib/python3.11/site-packages/seaborn/_oldcore.py:1119: FutureWarning: use_inf_as_na option is deprecated and will be removed in a future version. Convert inf values to NaN before operating instead.\n",
      "  with pd.option_context('mode.use_inf_as_na', True):\n"
     ]
    },
    {
     "data": {
      "image/png": "[encoded data removed]",
      "text/plain": [
       "<Figure size 500x500 with 1 Axes>"
      ]
     },
     "metadata": {},
     "output_type": "display_data"
    }
   ],
   "source": [
    "sns.displot(y, color='gray')\n",
    "plt.axvline(mu+2.5*sigma, color='blue')\n",
    "_ = plt.axvline(mu-2.5*sigma, color='blue')"
   ]
  },
  {
   "cell_type": "markdown",
   "metadata": {
    "id": "I0TSl17uJy-R"
   },
   "source": [
    "In other words, assuming a normal distribution, the probability (the *p*-value) of a sampled value being at least 2.5 standard deviations away from the mean by chance alone is $p \\approx .0124$."
   ]
  },
  {
   "cell_type": "markdown",
   "metadata": {
    "id": "4syN_b9hJy-R"
   },
   "source": [
    "The frequentist convention is that if a *p*-value is less than .05, we can say that it is a \"statistically significant\" observation. We typically denote this significance threshold with $\\alpha$, e.g., $\\alpha = .05$.\n",
    "\n",
    "For example, with a fair coin, the probability of throwing six heads *or* six tails in a six-coin-flip experiment is 0.03125 ($p = 0.015625$ for *either of* six heads or six tails). Refer back to the `coinflip_prob()` method above.\n",
    "\n",
    "If a friend of yours hands you a coin, the **null hypothesis** (the baseline assumed by the fair-toss distribution) would be that the coin is fair. If you test this coin by flipping it six times and it comes up heads on all six or tails on all six, this observation would suggest that you should *reject the null hypothesis* because chance alone would facilitate such an observation less than 5% of the time, i.e., $p < .05$."
   ]
  },
  {
   "cell_type": "markdown",
   "metadata": {
    "id": "KMt6x7BQJy-S"
   },
   "source": [
    "The *z*-scores corresponding to $\\alpha = .05$ can be obtained from the normal distribution's *percent point function* (PPF), which facilitates the inverse of the CDF. To capture 95% of the values around the mean, we leave 2.5% at the bottom of the distribution and 2.5% at the top: "
   ]
  },
  {
   "cell_type": "code",
   "execution_count": 29,
   "metadata": {
    "colab": {
     "base_uri": "https://localhost:8080/"
    },
    "id": "y3ZqdV9WJy-S",
    "outputId": "450df01c-3b14-4e20-f935-f36dff8a3865"
   },
   "outputs": [
    {
     "data": {
      "text/plain": [
       "-1.9599639845400545"
      ]
     },
     "execution_count": 29,
     "metadata": {},
     "output_type": "execute_result"
    }
   ],
   "source": [
    "st.norm.ppf(.025)"
   ]
  },
  {
   "cell_type": "code",
   "execution_count": 30,
   "metadata": {
    "colab": {
     "base_uri": "https://localhost:8080/"
    },
    "id": "VJGV5em-Jy-S",
    "outputId": "bd8fc443-844f-45c4-b521-b84bdce061e7"
   },
   "outputs": [
    {
     "data": {
      "text/plain": [
       "1.959963984540054"
      ]
     },
     "execution_count": 30,
     "metadata": {},
     "output_type": "execute_result"
    }
   ],
   "source": [
    "st.norm.ppf(.975)"
   ]
  },
  {
   "cell_type": "markdown",
   "metadata": {
    "id": "RObWUObeJy-S"
   },
   "source": [
    "Thus, at the traditional $\\alpha = .05$, a sampled value with *z*-score less than -1.96 or greater than 1.96 would be considered statistically significant."
   ]
  },
  {
   "cell_type": "code",
   "execution_count": 31,
   "metadata": {
    "colab": {
     "base_uri": "https://localhost:8080/",
     "height": 0
    },
    "id": "a7yRDzN-Jy-S",
    "outputId": "9ade82e9-b05d-4174-852f-6ad78e6935a0"
   },
   "outputs": [
    {
     "name": "stderr",
     "output_type": "stream",
     "text": [
      "/opt/anaconda3/envs/ml/lib/python3.11/site-packages/seaborn/_oldcore.py:1498: FutureWarning: is_categorical_dtype is deprecated and will be removed in a future version. Use isinstance(dtype, CategoricalDtype) instead\n",
      "  if pd.api.types.is_categorical_dtype(vector):\n",
      "/opt/anaconda3/envs/ml/lib/python3.11/site-packages/seaborn/_oldcore.py:1119: FutureWarning: use_inf_as_na option is deprecated and will be removed in a future version. Convert inf values to NaN before operating instead.\n",
      "  with pd.option_context('mode.use_inf_as_na', True):\n"
     ]
    },
    {
     "data": {
      "image/png": "[encoded data removed]",
      "text/plain": [
       "<Figure size 500x500 with 1 Axes>"
      ]
     },
     "metadata": {},
     "output_type": "display_data"
    }
   ],
   "source": [
    "sns.displot(y, color='gray')\n",
    "plt.axvline(mu+1.96*sigma, color='darkred')\n",
    "_ = plt.axvline(mu-1.96*sigma, color='darkred')"
   ]
  },
  {
   "cell_type": "markdown",
   "metadata": {
    "id": "eUO9cKo7Jy-S"
   },
   "source": [
    "**Exercises**\n",
    "\n",
    "1. What are the *p*-values associated with your weightlifting results from the three preceding exercises? \n",
    "2. With the standard $\\alpha = .05$, which of the three weightlifting results are \"statistically significant\"?"
   ]
  },
  {
   "cell_type": "markdown",
   "metadata": {
    "id": "HA3mbmo4Jy-X"
   },
   "source": [
    "### Comparing Means with *t*-tests"
   ]
  },
  {
   "cell_type": "markdown",
   "metadata": {
    "id": "OBARGrHjJy-X"
   },
   "source": [
    "Where *z*-scores apply to *individual values* only, *t*-tests enables us to compare (the mean of) a sample of *multiple values* to a reference mean."
   ]
  },
  {
   "cell_type": "markdown",
   "metadata": {
    "id": "FFS2GmrxJy-X"
   },
   "source": [
    "#### Student's Single-Sample *t*-test"
   ]
  },
  {
   "cell_type": "markdown",
   "metadata": {
    "id": "OEkXJ94nJy-X"
   },
   "source": [
    "Named after William Sealy Gosset, an Oxford-trained scientist and mathematician, who became a stout yield statistician for Guinness in Dublin (from 1899 to his fatal heart attack in 1937 shortly after being promoted to head brewer). Alongside sabbaticals in Karl Pearson's UCL Biometric Laboratory, Gosset published under the pseudonym Student (including on the *t*-test, starting in 1908) as it was against Guinness policy to publish."
   ]
  },
  {
   "cell_type": "markdown",
   "metadata": {
    "id": "ShlPrRtVJy-X"
   },
   "source": [
    "Recalling the formula for calculating a *z*-score: \n",
    "$$ z = \\frac{x_i-\\mu}{\\sigma} $$"
   ]
  },
  {
   "cell_type": "markdown",
   "metadata": {
    "id": "BoXBaK4WJy-Y"
   },
   "source": [
    "The **single-sample *t*-test** is a variation on the theme and is defined by: \n",
    "$$ t = \\frac{\\bar{x} - \\mu_0}{s_{\\bar{x}}} $$\n",
    "Where: \n",
    "* $\\bar{x}$ is the sample mean\n",
    "* $\\mu_0$ is a reference mean, e.g., known population mean or \"null hypothesis\" mean\n",
    "* $s_{\\bar{x}}$ is the sample standard error"
   ]
  },
  {
   "cell_type": "markdown",
   "metadata": {
    "id": "lqnCyHq6Jy-Y"
   },
   "source": [
    "Let's say you're the head brewer at Guinness. Your baseline brewing process yields 50L of stout. Using a new genetically-modified yeast, you obtain the following yields (all in liters) in four separate experiments: "
   ]
  },
  {
   "cell_type": "code",
   "execution_count": 35,
   "metadata": {
    "id": "2Lo8ozG5Jy-Y"
   },
   "outputs": [],
   "source": [
    "x = [48, 50, 54, 60]"
   ]
  },
  {
   "cell_type": "markdown",
   "metadata": {
    "id": "oov4H2IvJy-Y"
   },
   "source": [
    "We can obtain the *t*-statistic for this sample as follows: "
   ]
  },
  {
   "cell_type": "code",
   "execution_count": 36,
   "metadata": {
    "colab": {
     "base_uri": "https://localhost:8080/"
    },
    "id": "JR_0S3KyJy-Y",
    "outputId": "3cd69091-3a96-456d-e9f8-22e4a641d8de"
   },
   "outputs": [
    {
     "data": {
      "text/plain": [
       "53.0"
      ]
     },
     "execution_count": 36,
     "metadata": {},
     "output_type": "execute_result"
    }
   ],
   "source": [
    "xbar = np.mean(x)\n",
    "xbar"
   ]
  },
  {
   "cell_type": "code",
   "execution_count": 37,
   "metadata": {
    "colab": {
     "base_uri": "https://localhost:8080/"
    },
    "id": "2OFpbkOlJy-Y",
    "outputId": "450b13e6-5835-48c6-fb07-ec5db7988a9d"
   },
   "outputs": [
    {
     "data": {
      "text/plain": [
       "2.6457513110645907"
      ]
     },
     "execution_count": 37,
     "metadata": {},
     "output_type": "execute_result"
    }
   ],
   "source": [
    "sx = st.sem(x)\n",
    "sx"
   ]
  },
  {
   "cell_type": "code",
   "execution_count": 38,
   "metadata": {
    "colab": {
     "base_uri": "https://localhost:8080/"
    },
    "id": "YSX1KZ2nJy-Y",
    "outputId": "bce2a1e9-c29b-4803-d0d0-ebb1e26f6973"
   },
   "outputs": [
    {
     "data": {
      "text/plain": [
       "1.1338934190276817"
      ]
     },
     "execution_count": 38,
     "metadata": {},
     "output_type": "execute_result"
    }
   ],
   "source": [
    "t = (xbar-50)/sx\n",
    "t"
   ]
  },
  {
   "cell_type": "markdown",
   "metadata": {
    "id": "1KAvQMTUJy-Z"
   },
   "source": [
    "We can convert the *t*-value into a *p*-value using Student's *t*-distribution (similar to the normal *z*-distribution, but varies based on number of data points in sample; see [here](https://en.wikipedia.org/wiki/Student%27s_t-distribution) for more detail):"
   ]
  },
  {
   "cell_type": "code",
   "execution_count": 39,
   "metadata": {
    "id": "yqled1DnJy-Z"
   },
   "outputs": [],
   "source": [
    "def p_from_t(my_t, my_n):\n",
    "    return 2 * st.t.cdf(-abs(my_t), my_n-1) # 2nd arg to t.cdf() is \"degrees of freedom\""
   ]
  },
  {
   "cell_type": "code",
   "execution_count": 40,
   "metadata": {
    "colab": {
     "base_uri": "https://localhost:8080/"
    },
    "id": "b_l4p5YwJy-Z",
    "outputId": "5c04fa3b-f6ca-4e15-c85c-1b5929b28a2e"
   },
   "outputs": [
    {
     "data": {
      "text/plain": [
       "0.3392540508564543"
      ]
     },
     "execution_count": 40,
     "metadata": {},
     "output_type": "execute_result"
    }
   ],
   "source": [
    "p_from_t(t, len(x))"
   ]
  },
  {
   "cell_type": "markdown",
   "metadata": {
    "id": "x0BPjLnwJy-Z"
   },
   "source": [
    "(An illustration of **degrees of freedom**: If we know the mean of the array `x`, three of its four values can vary freely. That is, if we know three of the values in the array, the fourth has no \"freedom\"; it must be a specific value. Thus, the most common situation with statistical tests is that we have *n*-1 degrees of freedom.)"
   ]
  },
  {
   "cell_type": "markdown",
   "metadata": {
    "id": "z4-b2kfJJy-Z"
   },
   "source": [
    "For everyday usage, however, we can rely on the SciPy `ttest_1samp()` method: "
   ]
  },
  {
   "cell_type": "code",
   "execution_count": 41,
   "metadata": {
    "colab": {
     "base_uri": "https://localhost:8080/"
    },
    "id": "ZhHgjupDJy-Z",
    "outputId": "fd0301e2-ffbe-4b09-a930-85c0284cce95"
   },
   "outputs": [
    {
     "data": {
      "text/plain": [
       "TtestResult(statistic=1.1338934190276817, pvalue=0.3392540508564543, df=3)"
      ]
     },
     "execution_count": 41,
     "metadata": {},
     "output_type": "execute_result"
    }
   ],
   "source": [
    "st.ttest_1samp(x, 50)"
   ]
  },
  {
   "cell_type": "markdown",
   "metadata": {
    "id": "mz_5pa7WJy-e"
   },
   "source": [
    "#### Student's Paired *t*-test"
   ]
  },
  {
   "cell_type": "markdown",
   "metadata": {
    "id": "kaomPLqyJy-e"
   },
   "source": [
    "Occasionally, we have two vectors where each element in vector *x* has a corresponding element in vector *y*. \n",
    "\n",
    "For example, we could run an experiment where Alzheimer's disease patients receive a drug on one day (experimental condition) and a sugar pill placebo (control condition) on another day. We can then measure the patients' forgetfulness on both days to test whether the drug has a significant impact on memory.\n",
    "\n",
    "For a given sample size, such a paired *t*-test is more powerful relative to an unpaired (independent) *t*-test because the variance of *x* is directly related to the variance in *y*: A severe Alzheimer's patient will tend to be relatively forgetful on both days, while a mild Alzheimer's patient will tend to be relatively unforgetful on both days. With paired samples, we capture this power by comparing the *difference* between *x* and *y*, e.g., the difference in forgetfulness for a given patient when given the drug relative to when given the sugar pill.\n",
    "\n",
    "In contrast, consider the penguin dataset, wherein we wouldn't be able to obviously pair a given male penguin with a correponding female penguin. Or consider a situation where we provide a drug to one set of Alzheimer's patients while we provide a placebo to an entire different (an independent) group of patients. Indeed, with an independent *t*-test we could even have different sample sizes in the two groups whereas this is impossible with a paired *t*-test. "
   ]
  },
  {
   "cell_type": "markdown",
   "metadata": {
    "id": "mRknH0rPJy-e"
   },
   "source": [
    "Here's an example: "
   ]
  },
  {
   "cell_type": "code",
   "execution_count": 54,
   "metadata": {
    "colab": {
     "base_uri": "https://localhost:8080/",
     "height": 0
    },
    "id": "I5OLpqPvJy-f",
    "outputId": "df5f319c-4d95-4bc9-f56b-e9c45a7328d2"
   },
   "outputs": [
    {
     "data": {
      "text/html": [
       "<div>\n",
       "<style scoped>\n",
       "    .dataframe tbody tr th:only-of-type {\n",
       "        vertical-align: middle;\n",
       "    }\n",
       "\n",
       "    .dataframe tbody tr th {\n",
       "        vertical-align: top;\n",
       "    }\n",
       "\n",
       "    .dataframe thead th {\n",
       "        text-align: right;\n",
       "    }\n",
       "</style>\n",
       "<table border=\"1\" class=\"dataframe\">\n",
       "  <thead>\n",
       "    <tr style=\"text-align: right;\">\n",
       "      <th></th>\n",
       "      <th>Unnamed: 0</th>\n",
       "      <th>id</th>\n",
       "      <th>diet</th>\n",
       "      <th>pulse</th>\n",
       "      <th>time</th>\n",
       "      <th>kind</th>\n",
       "    </tr>\n",
       "  </thead>\n",
       "  <tbody>\n",
       "    <tr>\n",
       "      <th>0</th>\n",
       "      <td>0</td>\n",
       "      <td>1</td>\n",
       "      <td>low fat</td>\n",
       "      <td>85</td>\n",
       "      <td>1 min</td>\n",
       "      <td>rest</td>\n",
       "    </tr>\n",
       "    <tr>\n",
       "      <th>1</th>\n",
       "      <td>1</td>\n",
       "      <td>1</td>\n",
       "      <td>low fat</td>\n",
       "      <td>85</td>\n",
       "      <td>15 min</td>\n",
       "      <td>rest</td>\n",
       "    </tr>\n",
       "    <tr>\n",
       "      <th>2</th>\n",
       "      <td>2</td>\n",
       "      <td>1</td>\n",
       "      <td>low fat</td>\n",
       "      <td>88</td>\n",
       "      <td>30 min</td>\n",
       "      <td>rest</td>\n",
       "    </tr>\n",
       "    <tr>\n",
       "      <th>3</th>\n",
       "      <td>3</td>\n",
       "      <td>2</td>\n",
       "      <td>low fat</td>\n",
       "      <td>90</td>\n",
       "      <td>1 min</td>\n",
       "      <td>rest</td>\n",
       "    </tr>\n",
       "    <tr>\n",
       "      <th>4</th>\n",
       "      <td>4</td>\n",
       "      <td>2</td>\n",
       "      <td>low fat</td>\n",
       "      <td>92</td>\n",
       "      <td>15 min</td>\n",
       "      <td>rest</td>\n",
       "    </tr>\n",
       "    <tr>\n",
       "      <th>...</th>\n",
       "      <td>...</td>\n",
       "      <td>...</td>\n",
       "      <td>...</td>\n",
       "      <td>...</td>\n",
       "      <td>...</td>\n",
       "      <td>...</td>\n",
       "    </tr>\n",
       "    <tr>\n",
       "      <th>85</th>\n",
       "      <td>85</td>\n",
       "      <td>29</td>\n",
       "      <td>no fat</td>\n",
       "      <td>135</td>\n",
       "      <td>15 min</td>\n",
       "      <td>running</td>\n",
       "    </tr>\n",
       "    <tr>\n",
       "      <th>86</th>\n",
       "      <td>86</td>\n",
       "      <td>29</td>\n",
       "      <td>no fat</td>\n",
       "      <td>130</td>\n",
       "      <td>30 min</td>\n",
       "      <td>running</td>\n",
       "    </tr>\n",
       "    <tr>\n",
       "      <th>87</th>\n",
       "      <td>87</td>\n",
       "      <td>30</td>\n",
       "      <td>no fat</td>\n",
       "      <td>99</td>\n",
       "      <td>1 min</td>\n",
       "      <td>running</td>\n",
       "    </tr>\n",
       "    <tr>\n",
       "      <th>88</th>\n",
       "      <td>88</td>\n",
       "      <td>30</td>\n",
       "      <td>no fat</td>\n",
       "      <td>111</td>\n",
       "      <td>15 min</td>\n",
       "      <td>running</td>\n",
       "    </tr>\n",
       "    <tr>\n",
       "      <th>89</th>\n",
       "      <td>89</td>\n",
       "      <td>30</td>\n",
       "      <td>no fat</td>\n",
       "      <td>150</td>\n",
       "      <td>30 min</td>\n",
       "      <td>running</td>\n",
       "    </tr>\n",
       "  </tbody>\n",
       "</table>\n",
       "<p>90 rows × 6 columns</p>\n",
       "</div>"
      ],
      "text/plain": [
       "    Unnamed: 0  id     diet  pulse    time     kind\n",
       "0            0   1  low fat     85   1 min     rest\n",
       "1            1   1  low fat     85  15 min     rest\n",
       "2            2   1  low fat     88  30 min     rest\n",
       "3            3   2  low fat     90   1 min     rest\n",
       "4            4   2  low fat     92  15 min     rest\n",
       "..         ...  ..      ...    ...     ...      ...\n",
       "85          85  29   no fat    135  15 min  running\n",
       "86          86  29   no fat    130  30 min  running\n",
       "87          87  30   no fat     99   1 min  running\n",
       "88          88  30   no fat    111  15 min  running\n",
       "89          89  30   no fat    150  30 min  running\n",
       "\n",
       "[90 rows x 6 columns]"
      ]
     },
     "execution_count": 54,
     "metadata": {},
     "output_type": "execute_result"
    }
   ],
   "source": [
    "exercise = sns.load_dataset('exercise')\n",
    "exercise"
   ]
  },
  {
   "cell_type": "markdown",
   "metadata": {
    "id": "NYi9P-nIJy-f"
   },
   "source": [
    "There are 30 people in the dataset, with their pulse taken at three different time points in an experiment (i.e, after one, 15, and 30 minutes). Ten people were assigned to each of three activity groups: "
   ]
  },
  {
   "cell_type": "code",
   "execution_count": 55,
   "metadata": {
    "colab": {
     "base_uri": "https://localhost:8080/"
    },
    "id": "8ZmmIMPEJy-f",
    "outputId": "40048b38-22fd-4096-851c-d5ca45329b13"
   },
   "outputs": [
    {
     "data": {
      "text/plain": [
       "(array(['rest', 'running', 'walking'], dtype=object), array([30, 30, 30]))"
      ]
     },
     "execution_count": 55,
     "metadata": {},
     "output_type": "execute_result"
    }
   ],
   "source": [
    "np.unique(exercise.kind, return_counts=True)"
   ]
  },
  {
   "cell_type": "markdown",
   "metadata": {
    "id": "49PjJ7U2Jy-g"
   },
   "source": [
    "Within each of those activity groups, half of the participants are on a low-fat diet while the other half are on a no-fat diet: "
   ]
  },
  {
   "cell_type": "code",
   "execution_count": 56,
   "metadata": {
    "colab": {
     "base_uri": "https://localhost:8080/"
    },
    "id": "0L3Ez96QJy-g",
    "outputId": "ad7d5fc3-d4f9-4971-d3aa-65d23180ca5b"
   },
   "outputs": [
    {
     "data": {
      "text/plain": [
       "(array(['low fat', 'no fat'], dtype=object), array([45, 45]))"
      ]
     },
     "execution_count": 56,
     "metadata": {},
     "output_type": "execute_result"
    }
   ],
   "source": [
    "np.unique(exercise.diet, return_counts=True)"
   ]
  },
  {
   "cell_type": "markdown",
   "metadata": {
    "id": "CLMGo8KNJy-g"
   },
   "source": [
    "For simplicity, let's only consider one of the six experimental groups, say the walking, no-fat dieters: "
   ]
  },
  {
   "cell_type": "code",
   "execution_count": 57,
   "metadata": {
    "colab": {
     "base_uri": "https://localhost:8080/",
     "height": 0
    },
    "id": "i6a8K8bwJy-g",
    "outputId": "e65e0745-0880-415e-9242-9dcc2f264628"
   },
   "outputs": [
    {
     "data": {
      "text/html": [
       "<div>\n",
       "<style scoped>\n",
       "    .dataframe tbody tr th:only-of-type {\n",
       "        vertical-align: middle;\n",
       "    }\n",
       "\n",
       "    .dataframe tbody tr th {\n",
       "        vertical-align: top;\n",
       "    }\n",
       "\n",
       "    .dataframe thead th {\n",
       "        text-align: right;\n",
       "    }\n",
       "</style>\n",
       "<table border=\"1\" class=\"dataframe\">\n",
       "  <thead>\n",
       "    <tr style=\"text-align: right;\">\n",
       "      <th></th>\n",
       "      <th>Unnamed: 0</th>\n",
       "      <th>id</th>\n",
       "      <th>diet</th>\n",
       "      <th>pulse</th>\n",
       "      <th>time</th>\n",
       "      <th>kind</th>\n",
       "    </tr>\n",
       "  </thead>\n",
       "  <tbody>\n",
       "    <tr>\n",
       "      <th>45</th>\n",
       "      <td>45</td>\n",
       "      <td>16</td>\n",
       "      <td>no fat</td>\n",
       "      <td>84</td>\n",
       "      <td>1 min</td>\n",
       "      <td>walking</td>\n",
       "    </tr>\n",
       "    <tr>\n",
       "      <th>46</th>\n",
       "      <td>46</td>\n",
       "      <td>16</td>\n",
       "      <td>no fat</td>\n",
       "      <td>86</td>\n",
       "      <td>15 min</td>\n",
       "      <td>walking</td>\n",
       "    </tr>\n",
       "    <tr>\n",
       "      <th>47</th>\n",
       "      <td>47</td>\n",
       "      <td>16</td>\n",
       "      <td>no fat</td>\n",
       "      <td>89</td>\n",
       "      <td>30 min</td>\n",
       "      <td>walking</td>\n",
       "    </tr>\n",
       "    <tr>\n",
       "      <th>48</th>\n",
       "      <td>48</td>\n",
       "      <td>17</td>\n",
       "      <td>no fat</td>\n",
       "      <td>103</td>\n",
       "      <td>1 min</td>\n",
       "      <td>walking</td>\n",
       "    </tr>\n",
       "    <tr>\n",
       "      <th>49</th>\n",
       "      <td>49</td>\n",
       "      <td>17</td>\n",
       "      <td>no fat</td>\n",
       "      <td>109</td>\n",
       "      <td>15 min</td>\n",
       "      <td>walking</td>\n",
       "    </tr>\n",
       "    <tr>\n",
       "      <th>50</th>\n",
       "      <td>50</td>\n",
       "      <td>17</td>\n",
       "      <td>no fat</td>\n",
       "      <td>90</td>\n",
       "      <td>30 min</td>\n",
       "      <td>walking</td>\n",
       "    </tr>\n",
       "    <tr>\n",
       "      <th>51</th>\n",
       "      <td>51</td>\n",
       "      <td>18</td>\n",
       "      <td>no fat</td>\n",
       "      <td>92</td>\n",
       "      <td>1 min</td>\n",
       "      <td>walking</td>\n",
       "    </tr>\n",
       "    <tr>\n",
       "      <th>52</th>\n",
       "      <td>52</td>\n",
       "      <td>18</td>\n",
       "      <td>no fat</td>\n",
       "      <td>96</td>\n",
       "      <td>15 min</td>\n",
       "      <td>walking</td>\n",
       "    </tr>\n",
       "    <tr>\n",
       "      <th>53</th>\n",
       "      <td>53</td>\n",
       "      <td>18</td>\n",
       "      <td>no fat</td>\n",
       "      <td>101</td>\n",
       "      <td>30 min</td>\n",
       "      <td>walking</td>\n",
       "    </tr>\n",
       "    <tr>\n",
       "      <th>54</th>\n",
       "      <td>54</td>\n",
       "      <td>19</td>\n",
       "      <td>no fat</td>\n",
       "      <td>97</td>\n",
       "      <td>1 min</td>\n",
       "      <td>walking</td>\n",
       "    </tr>\n",
       "    <tr>\n",
       "      <th>55</th>\n",
       "      <td>55</td>\n",
       "      <td>19</td>\n",
       "      <td>no fat</td>\n",
       "      <td>98</td>\n",
       "      <td>15 min</td>\n",
       "      <td>walking</td>\n",
       "    </tr>\n",
       "    <tr>\n",
       "      <th>56</th>\n",
       "      <td>56</td>\n",
       "      <td>19</td>\n",
       "      <td>no fat</td>\n",
       "      <td>100</td>\n",
       "      <td>30 min</td>\n",
       "      <td>walking</td>\n",
       "    </tr>\n",
       "    <tr>\n",
       "      <th>57</th>\n",
       "      <td>57</td>\n",
       "      <td>20</td>\n",
       "      <td>no fat</td>\n",
       "      <td>102</td>\n",
       "      <td>1 min</td>\n",
       "      <td>walking</td>\n",
       "    </tr>\n",
       "    <tr>\n",
       "      <th>58</th>\n",
       "      <td>58</td>\n",
       "      <td>20</td>\n",
       "      <td>no fat</td>\n",
       "      <td>104</td>\n",
       "      <td>15 min</td>\n",
       "      <td>walking</td>\n",
       "    </tr>\n",
       "    <tr>\n",
       "      <th>59</th>\n",
       "      <td>59</td>\n",
       "      <td>20</td>\n",
       "      <td>no fat</td>\n",
       "      <td>103</td>\n",
       "      <td>30 min</td>\n",
       "      <td>walking</td>\n",
       "    </tr>\n",
       "  </tbody>\n",
       "</table>\n",
       "</div>"
      ],
      "text/plain": [
       "    Unnamed: 0  id    diet  pulse    time     kind\n",
       "45          45  16  no fat     84   1 min  walking\n",
       "46          46  16  no fat     86  15 min  walking\n",
       "47          47  16  no fat     89  30 min  walking\n",
       "48          48  17  no fat    103   1 min  walking\n",
       "49          49  17  no fat    109  15 min  walking\n",
       "50          50  17  no fat     90  30 min  walking\n",
       "51          51  18  no fat     92   1 min  walking\n",
       "52          52  18  no fat     96  15 min  walking\n",
       "53          53  18  no fat    101  30 min  walking\n",
       "54          54  19  no fat     97   1 min  walking\n",
       "55          55  19  no fat     98  15 min  walking\n",
       "56          56  19  no fat    100  30 min  walking\n",
       "57          57  20  no fat    102   1 min  walking\n",
       "58          58  20  no fat    104  15 min  walking\n",
       "59          59  20  no fat    103  30 min  walking"
      ]
     },
     "execution_count": 57,
     "metadata": {},
     "output_type": "execute_result"
    }
   ],
   "source": [
    "walk_no = exercise[(exercise.diet == 'no fat') & (exercise.kind == 'walking')]\n",
    "walk_no"
   ]
  },
  {
   "cell_type": "markdown",
   "metadata": {
    "id": "wkNKuo-UJy-g"
   },
   "source": [
    "(Note how participant 16 has a relatively low heart rate at all three timepoints, whereas participant 20 has a relatively high heart rate at all three timepoints.)"
   ]
  },
  {
   "cell_type": "code",
   "execution_count": 58,
   "metadata": {
    "colab": {
     "base_uri": "https://localhost:8080/",
     "height": 0
    },
    "id": "8mJ_Bzz5Jy-g",
    "outputId": "001f48d7-1cf4-475a-c9d3-2fabead73e83"
   },
   "outputs": [
    {
     "name": "stderr",
     "output_type": "stream",
     "text": [
      "/opt/anaconda3/envs/ml/lib/python3.11/site-packages/seaborn/_oldcore.py:1498: FutureWarning: is_categorical_dtype is deprecated and will be removed in a future version. Use isinstance(dtype, CategoricalDtype) instead\n",
      "  if pd.api.types.is_categorical_dtype(vector):\n",
      "/opt/anaconda3/envs/ml/lib/python3.11/site-packages/seaborn/categorical.py:641: FutureWarning: The default of observed=False is deprecated and will be changed to True in a future version of pandas. Pass observed=False to retain current behavior or observed=True to adopt the future default and silence this warning.\n",
      "  grouped_vals = vals.groupby(grouper)\n"
     ]
    },
    {
     "data": {
      "image/png": "[encoded data removed]",
      "text/plain": [
       "<Figure size 640x480 with 1 Axes>"
      ]
     },
     "metadata": {},
     "output_type": "display_data"
    }
   ],
   "source": [
    "_ = sns.boxplot(x='time', y='pulse', data=walk_no)"
   ]
  },
  {
   "cell_type": "code",
   "execution_count": 59,
   "metadata": {
    "colab": {
     "base_uri": "https://localhost:8080/"
    },
    "id": "u8IgFK6KJy-h",
    "outputId": "240ff222-3b76-4334-83ae-bd34fc8ff77c"
   },
   "outputs": [
    {
     "data": {
      "text/plain": [
       "array([ 84, 103,  92,  97, 102])"
      ]
     },
     "execution_count": 59,
     "metadata": {},
     "output_type": "execute_result"
    }
   ],
   "source": [
    "min1 = walk_no[walk_no.time == '1 min']['pulse'].to_numpy()\n",
    "min1"
   ]
  },
  {
   "cell_type": "code",
   "execution_count": 60,
   "metadata": {
    "colab": {
     "base_uri": "https://localhost:8080/"
    },
    "id": "o_LOW8VFJy-h",
    "outputId": "87420c4d-c6b7-489f-81be-a57ece3640a6"
   },
   "outputs": [
    {
     "data": {
      "text/plain": [
       "95.6"
      ]
     },
     "execution_count": 60,
     "metadata": {},
     "output_type": "execute_result"
    }
   ],
   "source": [
    "min1.mean()"
   ]
  },
  {
   "cell_type": "code",
   "execution_count": 61,
   "metadata": {
    "colab": {
     "base_uri": "https://localhost:8080/"
    },
    "id": "9H8GdBZoJy-h",
    "outputId": "aa3d93ef-2abc-4c8f-e040-abdceb9bf1e0"
   },
   "outputs": [
    {
     "data": {
      "text/plain": [
       "array([ 86, 109,  96,  98, 104])"
      ]
     },
     "execution_count": 61,
     "metadata": {},
     "output_type": "execute_result"
    }
   ],
   "source": [
    "min15 = walk_no[walk_no.time == '15 min']['pulse'].to_numpy()\n",
    "min15"
   ]
  },
  {
   "cell_type": "code",
   "execution_count": 62,
   "metadata": {
    "colab": {
     "base_uri": "https://localhost:8080/"
    },
    "id": "D0QZlQl8Jy-h",
    "outputId": "f041cd4c-137b-4ff4-ddd2-1a3c7761de30"
   },
   "outputs": [
    {
     "data": {
      "text/plain": [
       "98.6"
      ]
     },
     "execution_count": 62,
     "metadata": {},
     "output_type": "execute_result"
    }
   ],
   "source": [
    "min15.mean()"
   ]
  },
  {
   "cell_type": "code",
   "execution_count": 63,
   "metadata": {
    "colab": {
     "base_uri": "https://localhost:8080/"
    },
    "id": "rkCzRQnwJy-h",
    "outputId": "d0b02bcc-d703-4dfb-c72d-ad8dcedda1fb"
   },
   "outputs": [
    {
     "data": {
      "text/plain": [
       "array([ 89,  90, 101, 100, 103])"
      ]
     },
     "execution_count": 63,
     "metadata": {},
     "output_type": "execute_result"
    }
   ],
   "source": [
    "min30 = walk_no[walk_no.time == '30 min']['pulse'].to_numpy()\n",
    "min30"
   ]
  },
  {
   "cell_type": "code",
   "execution_count": 64,
   "metadata": {
    "colab": {
     "base_uri": "https://localhost:8080/"
    },
    "id": "yWmnohV5Jy-h",
    "outputId": "c8b7bca9-0ce7-402e-d765-7c7aee736307"
   },
   "outputs": [
    {
     "data": {
      "text/plain": [
       "96.6"
      ]
     },
     "execution_count": 64,
     "metadata": {},
     "output_type": "execute_result"
    }
   ],
   "source": [
    "min30.mean()"
   ]
  },
  {
   "cell_type": "markdown",
   "metadata": {
    "id": "2IPyQq9iJy-i"
   },
   "source": [
    "(With paired samples, we can plot the values in a scatterplot, which wouldn't make any sense for independent samples, e.g.:)"
   ]
  },
  {
   "cell_type": "code",
   "execution_count": 65,
   "metadata": {
    "colab": {
     "base_uri": "https://localhost:8080/",
     "height": 0
    },
    "id": "rNPRuNaDJy-i",
    "outputId": "ed4f26a8-d232-4ed3-84bc-5f280a0da782"
   },
   "outputs": [
    {
     "name": "stderr",
     "output_type": "stream",
     "text": [
      "/opt/anaconda3/envs/ml/lib/python3.11/site-packages/seaborn/_oldcore.py:1498: FutureWarning: is_categorical_dtype is deprecated and will be removed in a future version. Use isinstance(dtype, CategoricalDtype) instead\n",
      "  if pd.api.types.is_categorical_dtype(vector):\n",
      "/opt/anaconda3/envs/ml/lib/python3.11/site-packages/seaborn/_oldcore.py:1498: FutureWarning: is_categorical_dtype is deprecated and will be removed in a future version. Use isinstance(dtype, CategoricalDtype) instead\n",
      "  if pd.api.types.is_categorical_dtype(vector):\n"
     ]
    },
    {
     "data": {
      "image/png": "[encoded data removed]",
      "text/plain": [
       "<Figure size 640x480 with 1 Axes>"
      ]
     },
     "metadata": {},
     "output_type": "display_data"
    }
   ],
   "source": [
    "sns.scatterplot(x=min1, y=min15)\n",
    "plt.title('Heart rate of no-fat dieters (beats per minute)')\n",
    "plt.xlabel('After 1 minute walking')\n",
    "_ = plt.ylabel('After 15 minutes walking')"
   ]
  },
  {
   "cell_type": "markdown",
   "metadata": {
    "id": "7ah_p_eVJy-i"
   },
   "source": [
    "To assess whether the mean heart rate varies significantly after one minute of walking relative to after 15 minutes, we can use Student's **paired-sample** (a.k.a., **dependent**) *t*-test: \n",
    "$$ t = \\frac{\\bar{d} - \\mu_0}{s_\\bar{d}} $$ \n",
    "Where: \n",
    "* $d$ is a vector of the differences between paired samples $x$ and $y$\n",
    "* $\\bar{d}$ is the mean of the differences\n",
    "* $\\mu_0$ will typically be zero, meaning the null hypothesis is that there is no difference between $x$ and $y$\n",
    "* $s_\\bar{d}$ is the standard error of the differences"
   ]
  },
  {
   "cell_type": "markdown",
   "metadata": {
    "id": "5w618u07Jy-i"
   },
   "source": [
    "(Note how similar to single-sample *t*-test formula.)"
   ]
  },
  {
   "cell_type": "code",
   "execution_count": 66,
   "metadata": {
    "colab": {
     "base_uri": "https://localhost:8080/"
    },
    "id": "GSaoJW5IJy-i",
    "outputId": "7d8f15bf-b182-434f-e01f-db3c4cc1c9d5"
   },
   "outputs": [
    {
     "data": {
      "text/plain": [
       "array([2, 6, 4, 1, 2])"
      ]
     },
     "execution_count": 66,
     "metadata": {},
     "output_type": "execute_result"
    }
   ],
   "source": [
    "d = min15 - min1\n",
    "d"
   ]
  },
  {
   "cell_type": "code",
   "execution_count": 67,
   "metadata": {
    "colab": {
     "base_uri": "https://localhost:8080/"
    },
    "id": "elsBVr9AJy-i",
    "outputId": "04e28316-5545-4ed0-b3d8-f961bbbe59df"
   },
   "outputs": [
    {
     "data": {
      "text/plain": [
       "3.0"
      ]
     },
     "execution_count": 67,
     "metadata": {},
     "output_type": "execute_result"
    }
   ],
   "source": [
    "dbar = d.mean()\n",
    "dbar"
   ]
  },
  {
   "cell_type": "code",
   "execution_count": 68,
   "metadata": {
    "colab": {
     "base_uri": "https://localhost:8080/"
    },
    "id": "yD8KOL3EJy-j",
    "outputId": "8c1fedc8-875a-4663-8bbc-9a7a90d5d716"
   },
   "outputs": [
    {
     "data": {
      "text/plain": [
       "0.8944271909999159"
      ]
     },
     "execution_count": 68,
     "metadata": {},
     "output_type": "execute_result"
    }
   ],
   "source": [
    "sd = st.sem(d)\n",
    "sd"
   ]
  },
  {
   "cell_type": "code",
   "execution_count": 69,
   "metadata": {
    "colab": {
     "base_uri": "https://localhost:8080/"
    },
    "id": "uJglNA37Jy-j",
    "outputId": "3e4b1a7c-9b30-462a-a0a8-070f53a9fbda"
   },
   "outputs": [
    {
     "data": {
      "text/plain": [
       "3.3541019662496847"
      ]
     },
     "execution_count": 69,
     "metadata": {},
     "output_type": "execute_result"
    }
   ],
   "source": [
    "t = (dbar-0)/sd\n",
    "t"
   ]
  },
  {
   "cell_type": "code",
   "execution_count": 70,
   "metadata": {
    "colab": {
     "base_uri": "https://localhost:8080/"
    },
    "id": "6Mcq9LALJy-j",
    "outputId": "177698d7-92fe-4953-848e-14dbc4a3a97f"
   },
   "outputs": [
    {
     "data": {
      "text/plain": [
       "0.02846020325433834"
      ]
     },
     "execution_count": 70,
     "metadata": {},
     "output_type": "execute_result"
    }
   ],
   "source": [
    "p_from_t(t, d.size)"
   ]
  },
  {
   "cell_type": "code",
   "execution_count": 71,
   "metadata": {
    "colab": {
     "base_uri": "https://localhost:8080/"
    },
    "id": "7SZqWeDSJy-j",
    "outputId": "14b8234b-9751-4e11-dfcb-8e7ebf7a354d"
   },
   "outputs": [
    {
     "data": {
      "text/plain": [
       "TtestResult(statistic=3.3541019662496847, pvalue=0.02846020325433834, df=4)"
      ]
     },
     "execution_count": 71,
     "metadata": {},
     "output_type": "execute_result"
    }
   ],
   "source": [
    "st.ttest_rel(min15, min1)"
   ]
  },
  {
   "cell_type": "markdown",
   "metadata": {
    "id": "oZy5OPUcJy-j"
   },
   "source": [
    "In contrast, if we were to put the same values into an independent *t*-test..."
   ]
  },
  {
   "cell_type": "code",
   "execution_count": 72,
   "metadata": {
    "colab": {
     "base_uri": "https://localhost:8080/"
    },
    "id": "-Zxlb9MjJy-j",
    "outputId": "bea9e93c-1f55-4a57-8abc-28584150cdbd"
   },
   "outputs": [
    {
     "data": {
      "text/plain": [
       "TtestResult(statistic=0.5729114862838532, pvalue=0.5826164805627767, df=7.91150470414055)"
      ]
     },
     "execution_count": 72,
     "metadata": {},
     "output_type": "execute_result"
    }
   ],
   "source": [
    "st.ttest_ind(min15, min1, equal_var=False)"
   ]
  },
  {
   "cell_type": "markdown",
   "metadata": {
    "id": "3Qq6CwH2Jy-k"
   },
   "source": [
    "#### Machine Learning Examples"
   ]
  },
  {
   "cell_type": "markdown",
   "metadata": {
    "id": "QKsOq0Q2Jy-k"
   },
   "source": [
    "* Single-sample: Does my stochastic model tend to be more accurate than an established benchmark? \n",
    "* Independent samples: Does my model have unwanted bias in it, e.g., do white men score higher than other demographic groups with HR model? \n",
    "* Paired samples: Is new TensorFlow.js model significantly faster? (paired by browser / device)"
   ]
  },
  {
   "cell_type": "markdown",
   "metadata": {
    "id": "bVKNILucJy-k"
   },
   "source": [
    "**Exercises**\n",
    "1. You run four additional experiments with your GMO brewing yeast and now have the following eight stout yields: `[48, 50, 54, 60, 49, 55, 59, 62]`. What is the *t*-statistic and is it significantly different from the 50L-yielding baseline process? \n",
    "2. Does the flipper length of Adélie penguins from Dream island vary significantly by sex? \n",
    "2. Was the heart rate of low-fat dieters different after one minute of rest relative to after 15 minutes of rest? "
   ]
  },
  {
   "cell_type": "markdown",
   "metadata": {
    "id": "MkAeEk4PJy-n"
   },
   "source": [
    "### Confidence Intervals"
   ]
  },
  {
   "cell_type": "markdown",
   "metadata": {
    "id": "8IdBn7D6Jy-n"
   },
   "source": [
    "When examining sample means as we have been for the *t*-test, a useful statistical tool is the **confidence interval** (CI), which we for example often see associated with polling results when there's an upcoming election. CIs allow us to make statements such as \"there is a 95% chance that the population mean lies within this particular range of values\"."
   ]
  },
  {
   "cell_type": "markdown",
   "metadata": {
    "id": "Nk_XsypkJy-o"
   },
   "source": [
    "We can calculate a CI by rearranging the *z*-score formula: \n",
    "$$ \\text{C.I.} = \\bar{x} \\pm z \\frac{s}{\\sqrt{n}} $$\n",
    "Where: \n",
    "* $\\bar{x}$ is the sample mean\n",
    "* $s$ is the sample standard deviation\n",
    "* $n$ is the sample size\n",
    "* $z$ corresponds to a *z*-score threshold (e.g., the most common 95% CI is $z \\pm 1.960$; other popular ones are the 90% CI at $z \\pm 1.645$ and the 99% CI at $z \\pm 2.576$)"
   ]
  },
  {
   "cell_type": "markdown",
   "metadata": {
    "id": "0FZRFc_tJy-o"
   },
   "source": [
    "For example, to find the 95% confidence interval for the true mean yield of our GMO yeast: "
   ]
  },
  {
   "cell_type": "code",
   "execution_count": 73,
   "metadata": {
    "id": "JoiW9cZmJy-o"
   },
   "outputs": [],
   "source": [
    "x = np.array([48, 50, 54, 60, 49, 55, 59, 62])"
   ]
  },
  {
   "cell_type": "code",
   "execution_count": 74,
   "metadata": {
    "id": "sF4Oxn-KJy-o"
   },
   "outputs": [],
   "source": [
    "xbar = x.mean()\n",
    "s = x.std()\n",
    "n = x.size"
   ]
  },
  {
   "cell_type": "code",
   "execution_count": 75,
   "metadata": {
    "id": "ZI7gS9CUJy-o"
   },
   "outputs": [],
   "source": [
    "z = 1.96"
   ]
  },
  {
   "cell_type": "code",
   "execution_count": 76,
   "metadata": {
    "id": "ghR6ySR5Jy-o"
   },
   "outputs": [],
   "source": [
    "def CIerr_calc(my_z, my_s, my_n):\n",
    "    return my_z*(my_s/my_n**(1/2))"
   ]
  },
  {
   "cell_type": "code",
   "execution_count": 77,
   "metadata": {
    "id": "zUnONG0FJy-o"
   },
   "outputs": [],
   "source": [
    "CIerr = CIerr_calc(z, s, n)"
   ]
  },
  {
   "cell_type": "code",
   "execution_count": 78,
   "metadata": {
    "colab": {
     "base_uri": "https://localhost:8080/"
    },
    "id": "wJy0oR0PhPe4",
    "outputId": "939fb006-30d6-4398-e447-9107d3529859"
   },
   "outputs": [
    {
     "data": {
      "text/plain": [
       "3.4637403013216796"
      ]
     },
     "execution_count": 78,
     "metadata": {},
     "output_type": "execute_result"
    }
   ],
   "source": [
    "CIerr"
   ]
  },
  {
   "cell_type": "code",
   "execution_count": 79,
   "metadata": {
    "colab": {
     "base_uri": "https://localhost:8080/"
    },
    "id": "eUgR-OumJy-o",
    "outputId": "78111d18-c4ac-4b2b-ee7b-50136e91287a"
   },
   "outputs": [
    {
     "data": {
      "text/plain": [
       "58.08874030132168"
      ]
     },
     "execution_count": 79,
     "metadata": {},
     "output_type": "execute_result"
    }
   ],
   "source": [
    "xbar + CIerr"
   ]
  },
  {
   "cell_type": "code",
   "execution_count": 80,
   "metadata": {
    "colab": {
     "base_uri": "https://localhost:8080/"
    },
    "id": "dcSAZBArJy-p",
    "outputId": "a56b454f-6a83-43e5-f58e-48323d2284fa"
   },
   "outputs": [
    {
     "data": {
      "text/plain": [
       "51.16125969867832"
      ]
     },
     "execution_count": 80,
     "metadata": {},
     "output_type": "execute_result"
    }
   ],
   "source": [
    "xbar - CIerr"
   ]
  },
  {
   "cell_type": "markdown",
   "metadata": {
    "id": "9ILUj-4vJy-p"
   },
   "source": [
    "Therefore, there's a 95% chance that the true mean yield of our GMO yeast lies in the range of 51.2 to 58.1 liters. Since this CI doesn't overlap with the established baseline mean of 50L, this corresponds to stating that the GMO yield is significantly greater than the baseline where $\\alpha = .05$, as we already determined: "
   ]
  },
  {
   "cell_type": "code",
   "execution_count": 81,
   "metadata": {
    "colab": {
     "base_uri": "https://localhost:8080/",
     "height": 0
    },
    "id": "XzL2woRiJy-p",
    "outputId": "668d1369-0334-41e7-d874-c1e1d13f78e3"
   },
   "outputs": [
    {
     "data": {
      "image/png": "[encoded data removed]",
      "text/plain": [
       "<Figure size 640x480 with 1 Axes>"
      ]
     },
     "metadata": {},
     "output_type": "display_data"
    }
   ],
   "source": [
    "fig, ax = plt.subplots()\n",
    "plt.ylabel('Stout Yield (L)')\n",
    "plt.grid(axis='y')\n",
    "ax.errorbar(['GMO'], [xbar], [CIerr], fmt='o', color='green')\n",
    "_ = ax.axhline(50, color='orange')"
   ]
  },
  {
   "cell_type": "markdown",
   "metadata": {
    "id": "1iiTah2uJy-r"
   },
   "source": [
    "### Pearson Correlation Coefficient"
   ]
  },
  {
   "cell_type": "markdown",
   "metadata": {
    "id": "Q-yMENfQJy-r"
   },
   "source": [
    "If we have two vectors of the same length, $x$ and $y$, where each element of $x$ is paired with the corresponding element of $y$, **covariance** provides a measure of how related the variables are to each other:\n",
    "$$ \\text{cov}(x, y) = \\frac{\\sum_{i=1}^n (x_i - \\bar{x})(y_i - \\bar{y}) }{n} $$"
   ]
  },
  {
   "cell_type": "markdown",
   "metadata": {
    "id": "K1OsRpDXJy-r"
   },
   "source": [
    "A drawback of covariance is that it confounds the relative scale of two variables with a measure of the variables' relatedness. **Correlation** builds on covariance and overcomes this drawback via rescaling, thereby measuring (linear) relatedness exclusively. Correlation is much more common because of this difference. \n",
    "\n",
    "The correlation coefficient (developed by Karl Pearson in the 20th c. though known in the 19th c.) is often denoted with $r$ or $\\rho$ and is defined by: \n",
    "$$ \\rho_{x,y} = \\frac{\\text{cov}(x,y)}{\\sigma_x \\sigma_y} $$"
   ]
  },
  {
   "cell_type": "code",
   "execution_count": 84,
   "metadata": {},
   "outputs": [
    {
     "data": {
      "text/html": [
       "<div>\n",
       "<style scoped>\n",
       "    .dataframe tbody tr th:only-of-type {\n",
       "        vertical-align: middle;\n",
       "    }\n",
       "\n",
       "    .dataframe tbody tr th {\n",
       "        vertical-align: top;\n",
       "    }\n",
       "\n",
       "    .dataframe thead th {\n",
       "        text-align: right;\n",
       "    }\n",
       "</style>\n",
       "<table border=\"1\" class=\"dataframe\">\n",
       "  <thead>\n",
       "    <tr style=\"text-align: right;\">\n",
       "      <th></th>\n",
       "      <th>sepal_length</th>\n",
       "      <th>sepal_width</th>\n",
       "      <th>petal_length</th>\n",
       "      <th>petal_width</th>\n",
       "      <th>species</th>\n",
       "    </tr>\n",
       "  </thead>\n",
       "  <tbody>\n",
       "    <tr>\n",
       "      <th>0</th>\n",
       "      <td>5.1</td>\n",
       "      <td>3.5</td>\n",
       "      <td>1.4</td>\n",
       "      <td>0.2</td>\n",
       "      <td>setosa</td>\n",
       "    </tr>\n",
       "    <tr>\n",
       "      <th>1</th>\n",
       "      <td>4.9</td>\n",
       "      <td>3.0</td>\n",
       "      <td>1.4</td>\n",
       "      <td>0.2</td>\n",
       "      <td>setosa</td>\n",
       "    </tr>\n",
       "    <tr>\n",
       "      <th>2</th>\n",
       "      <td>4.7</td>\n",
       "      <td>3.2</td>\n",
       "      <td>1.3</td>\n",
       "      <td>0.2</td>\n",
       "      <td>setosa</td>\n",
       "    </tr>\n",
       "    <tr>\n",
       "      <th>3</th>\n",
       "      <td>4.6</td>\n",
       "      <td>3.1</td>\n",
       "      <td>1.5</td>\n",
       "      <td>0.2</td>\n",
       "      <td>setosa</td>\n",
       "    </tr>\n",
       "    <tr>\n",
       "      <th>4</th>\n",
       "      <td>5.0</td>\n",
       "      <td>3.6</td>\n",
       "      <td>1.4</td>\n",
       "      <td>0.2</td>\n",
       "      <td>setosa</td>\n",
       "    </tr>\n",
       "    <tr>\n",
       "      <th>...</th>\n",
       "      <td>...</td>\n",
       "      <td>...</td>\n",
       "      <td>...</td>\n",
       "      <td>...</td>\n",
       "      <td>...</td>\n",
       "    </tr>\n",
       "    <tr>\n",
       "      <th>145</th>\n",
       "      <td>6.7</td>\n",
       "      <td>3.0</td>\n",
       "      <td>5.2</td>\n",
       "      <td>2.3</td>\n",
       "      <td>virginica</td>\n",
       "    </tr>\n",
       "    <tr>\n",
       "      <th>146</th>\n",
       "      <td>6.3</td>\n",
       "      <td>2.5</td>\n",
       "      <td>5.0</td>\n",
       "      <td>1.9</td>\n",
       "      <td>virginica</td>\n",
       "    </tr>\n",
       "    <tr>\n",
       "      <th>147</th>\n",
       "      <td>6.5</td>\n",
       "      <td>3.0</td>\n",
       "      <td>5.2</td>\n",
       "      <td>2.0</td>\n",
       "      <td>virginica</td>\n",
       "    </tr>\n",
       "    <tr>\n",
       "      <th>148</th>\n",
       "      <td>6.2</td>\n",
       "      <td>3.4</td>\n",
       "      <td>5.4</td>\n",
       "      <td>2.3</td>\n",
       "      <td>virginica</td>\n",
       "    </tr>\n",
       "    <tr>\n",
       "      <th>149</th>\n",
       "      <td>5.9</td>\n",
       "      <td>3.0</td>\n",
       "      <td>5.1</td>\n",
       "      <td>1.8</td>\n",
       "      <td>virginica</td>\n",
       "    </tr>\n",
       "  </tbody>\n",
       "</table>\n",
       "<p>150 rows × 5 columns</p>\n",
       "</div>"
      ],
      "text/plain": [
       "     sepal_length  sepal_width  petal_length  petal_width    species\n",
       "0             5.1          3.5           1.4          0.2     setosa\n",
       "1             4.9          3.0           1.4          0.2     setosa\n",
       "2             4.7          3.2           1.3          0.2     setosa\n",
       "3             4.6          3.1           1.5          0.2     setosa\n",
       "4             5.0          3.6           1.4          0.2     setosa\n",
       "..            ...          ...           ...          ...        ...\n",
       "145           6.7          3.0           5.2          2.3  virginica\n",
       "146           6.3          2.5           5.0          1.9  virginica\n",
       "147           6.5          3.0           5.2          2.0  virginica\n",
       "148           6.2          3.4           5.4          2.3  virginica\n",
       "149           5.9          3.0           5.1          1.8  virginica\n",
       "\n",
       "[150 rows x 5 columns]"
      ]
     },
     "execution_count": 84,
     "metadata": {},
     "output_type": "execute_result"
    }
   ],
   "source": [
    "iris = sns.load_dataset('iris')\n",
    "iris"
   ]
  },
  {
   "cell_type": "code",
   "execution_count": 85,
   "metadata": {
    "id": "UnrJjhx0Jy-s"
   },
   "outputs": [],
   "source": [
    "x = iris.sepal_length\n",
    "y = iris.petal_length"
   ]
  },
  {
   "cell_type": "code",
   "execution_count": 86,
   "metadata": {
    "id": "hPE0FcBTJy-s"
   },
   "outputs": [],
   "source": [
    "sns.set_style('darkgrid')"
   ]
  },
  {
   "cell_type": "code",
   "execution_count": 87,
   "metadata": {
    "colab": {
     "base_uri": "https://localhost:8080/",
     "height": 0
    },
    "id": "VVEf2DoBJy-s",
    "outputId": "7b6e1cff-f708-4864-c9d3-1ae58d32e6f0"
   },
   "outputs": [
    {
     "name": "stderr",
     "output_type": "stream",
     "text": [
      "/opt/anaconda3/envs/ml/lib/python3.11/site-packages/seaborn/_oldcore.py:1498: FutureWarning: is_categorical_dtype is deprecated and will be removed in a future version. Use isinstance(dtype, CategoricalDtype) instead\n",
      "  if pd.api.types.is_categorical_dtype(vector):\n",
      "/opt/anaconda3/envs/ml/lib/python3.11/site-packages/seaborn/_oldcore.py:1498: FutureWarning: is_categorical_dtype is deprecated and will be removed in a future version. Use isinstance(dtype, CategoricalDtype) instead\n",
      "  if pd.api.types.is_categorical_dtype(vector):\n"
     ]
    },
    {
     "data": {
      "image/png": "[encoded data removed]",
      "text/plain": [
       "<Figure size 640x480 with 1 Axes>"
      ]
     },
     "metadata": {},
     "output_type": "display_data"
    }
   ],
   "source": [
    "_ = sns.scatterplot(x=x, y=y)"
   ]
  },
  {
   "cell_type": "code",
   "execution_count": 96,
   "metadata": {
    "colab": {
     "base_uri": "https://localhost:8080/"
    },
    "id": "wsCA5H9zJy-u",
    "outputId": "c7a8614e-2da3-4a75-9d06-808db38595d7"
   },
   "outputs": [
    {
     "data": {
      "text/plain": [
       "PearsonRResult(statistic=0.8717537758865831, pvalue=1.0386674194498827e-47)"
      ]
     },
     "execution_count": 96,
     "metadata": {},
     "output_type": "execute_result"
    }
   ],
   "source": [
    "st.pearsonr(x, y)"
   ]
  },
  {
   "cell_type": "markdown",
   "metadata": {
    "id": "-_UNB98rJy-u"
   },
   "source": [
    "And, for reference, here's a correlation that is not significant ($r \\approx 0$): "
   ]
  },
  {
   "cell_type": "code",
   "execution_count": 97,
   "metadata": {
    "colab": {
     "base_uri": "https://localhost:8080/",
     "height": 0
    },
    "id": "hM12XzeQJy-u",
    "outputId": "ee03b371-4e96-44fe-bb5d-36edfa95bd92"
   },
   "outputs": [
    {
     "name": "stderr",
     "output_type": "stream",
     "text": [
      "/opt/anaconda3/envs/ml/lib/python3.11/site-packages/seaborn/_oldcore.py:1498: FutureWarning: is_categorical_dtype is deprecated and will be removed in a future version. Use isinstance(dtype, CategoricalDtype) instead\n",
      "  if pd.api.types.is_categorical_dtype(vector):\n",
      "/opt/anaconda3/envs/ml/lib/python3.11/site-packages/seaborn/_oldcore.py:1498: FutureWarning: is_categorical_dtype is deprecated and will be removed in a future version. Use isinstance(dtype, CategoricalDtype) instead\n",
      "  if pd.api.types.is_categorical_dtype(vector):\n"
     ]
    },
    {
     "data": {
      "image/png": "[encoded data removed]",
      "text/plain": [
       "<Figure size 640x480 with 1 Axes>"
      ]
     },
     "metadata": {},
     "output_type": "display_data"
    }
   ],
   "source": [
    "_ = sns.scatterplot(x=iris.sepal_length, y=iris.sepal_width)"
   ]
  },
  {
   "cell_type": "code",
   "execution_count": 98,
   "metadata": {
    "colab": {
     "base_uri": "https://localhost:8080/"
    },
    "id": "G9ILTCGkJy-u",
    "outputId": "5ecee7b6-ef06-482a-d7e2-0035357cdf6c"
   },
   "outputs": [
    {
     "data": {
      "text/plain": [
       "PearsonRResult(statistic=-0.11756978413300206, pvalue=0.15189826071144746)"
      ]
     },
     "execution_count": 98,
     "metadata": {},
     "output_type": "execute_result"
    }
   ],
   "source": [
    "st.pearsonr(iris.sepal_length, iris.sepal_width)"
   ]
  },
  {
   "cell_type": "markdown",
   "metadata": {
    "id": "RpgrOtddJy-u"
   },
   "source": [
    "### The Coefficient of Determination"
   ]
  },
  {
   "cell_type": "markdown",
   "metadata": {
    "id": "QpwA6dZIJy-v"
   },
   "source": [
    "...also known as $r^2$, this is the proportion of variance in one variable explained by another. \n",
    "\n",
    "It can range from 0 to 1 and it is simply the square of the Pearson $r$:"
   ]
  },
  {
   "cell_type": "code",
   "execution_count": 100,
   "metadata": {
    "colab": {
     "base_uri": "https://localhost:8080/"
    },
    "id": "jqoRP7sIJy-v",
    "outputId": "23bacd8d-8f58-4809-f6fb-6067cca9bb2b"
   },
   "outputs": [
    {
     "data": {
      "text/plain": [
       "0.013822654141080705"
      ]
     },
     "execution_count": 100,
     "metadata": {},
     "output_type": "execute_result"
    }
   ],
   "source": [
    "st.pearsonr(iris.sepal_length, iris.sepal_width)[0]**2"
   ]
  },
  {
   "cell_type": "markdown",
   "metadata": {
    "id": "DAzNEPfMJy-v"
   },
   "source": [
    "### Correlation vs Causation"
   ]
  },
  {
   "cell_type": "markdown",
   "metadata": {
    "id": "1mQAauNGJy-v"
   },
   "source": [
    "Correlation doesn't imply **causation** on its own. E.g., sepal length and petal length are extremely highly correlated, but this doesn't imply that sepal length causes petal length or vice versa. "
   ]
  },
  {
   "cell_type": "markdown",
   "metadata": {
    "id": "eiRZEHl8Jy-v"
   },
   "source": [
    "There is a lot to causality and I recommend Judea Pearl's [*Causality*](http://bayes.cs.ucla.edu/BOOK-2K/), the classic technical text on the topic, if you're keen to explore this in depth. [*The Book of Why*](http://bayes.cs.ucla.edu/WHY/) is an exceptional lay alternative by the same author."
   ]
  }
 ],
 "metadata": {
  "colab": {
   "include_colab_link": true,
   "name": "5-probability.ipynb",
   "provenance": []
  },
  "kernelspec": {
   "display_name": "Python 3 (ipykernel)",
   "language": "python",
   "name": "python3"
  },
  "language_info": {
   "codemirror_mode": {
    "name": "ipython",
    "version": 3
   },
   "file_extension": ".py",
   "mimetype": "text/x-python",
   "name": "python",
   "nbconvert_exporter": "python",
   "pygments_lexer": "ipython3",
   "version": "3.11.5"
  }
 },
 "nbformat": 4,
 "nbformat_minor": 4
}
